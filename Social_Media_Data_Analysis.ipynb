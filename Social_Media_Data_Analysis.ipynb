{
 "cells": [
  {
   "cell_type": "markdown",
   "metadata": {},
   "source": [
    "# Clean & Analyze Social Media"
   ]
  },
  {
   "cell_type": "markdown",
   "metadata": {},
   "source": [
    "## Introduction\n",
    "\n",
    "Social media has become a ubiquitous part of modern life, with platforms such as Instagram, Twitter, and Facebook serving as essential communication channels. Social media data sets are vast and complex, making analysis a challenging task for businesses and researchers alike. In this project, we explore a simulated social media, for example Tweets, data set to understand trends in likes across different categories.\n",
    "\n",
    "## Project Scope\n",
    "\n",
    "The objective of this project is to analyze tweets (or other social media data) and gain insights into user engagement. We will explore the data set using visualization techniques to understand the distribution of likes across different categories. Finally, we will analyze the data to draw conclusions about the most popular categories and the overall engagement on the platform.\n",
    "\n",
    "## Step 1: Importing Required Libraries"
   ]
  },
  {
   "cell_type": "code",
   "execution_count": 2,
   "metadata": {},
   "outputs": [],
   "source": [
    "import pandas as pd\n",
    "import numpy as np\n",
    "import matplotlib.pyplot as plt\n",
    "import seaborn as sns\n",
    "import random"
   ]
  },
  {
   "cell_type": "markdown",
   "metadata": {},
   "source": [
    "# Step 2: Generating random data for the social media data"
   ]
  },
  {
   "cell_type": "code",
   "execution_count": 5,
   "metadata": {},
   "outputs": [],
   "source": [
    "# Define categories for the social media experiment\n",
    "categories = [\n",
    "    \"Food\", \"Travel\", \"Fashion\", \"Fitness\", \"Music\",\n",
    "    \"Culture\", \"Family\", \"Health\"\n",
    "]"
   ]
  },
  {
   "cell_type": "code",
   "execution_count": 6,
   "metadata": {},
   "outputs": [],
   "source": [
    "# Set the number of records\n",
    "n = 500"
   ]
  },
  {
   "cell_type": "code",
   "execution_count": 7,
   "metadata": {},
   "outputs": [],
   "source": [
    "# Generate the random data dictionary\n",
    "data = {\n",
    "    'Date': pd.date_range('2021-01-01', periods=n),\n",
    "    'Category': [random.choice(categories) for _ in range(n)],\n",
    "    'Likes': np.random.randint(0, 10000, size=n)\n",
    "}"
   ]
  },
  {
   "cell_type": "markdown",
   "metadata": {},
   "source": [
    "# Step 3: Loading the data into a Pandas DataFrame and Exploring the data"
   ]
  },
  {
   "cell_type": "code",
   "execution_count": 8,
   "metadata": {},
   "outputs": [],
   "source": [
    "# Convert the dictionary to a DataFrame\n",
    "df = pd.DataFrame(data)"
   ]
  },
  {
   "cell_type": "code",
   "execution_count": null,
   "metadata": {},
   "outputs": [
    {
     "name": "stdout",
     "output_type": "stream",
     "text": [
      "        Date Category  Likes\n",
      "0 2021-01-01     Food   6213\n",
      "1 2021-01-02   Family   6667\n",
      "2 2021-01-03   Family   7794\n",
      "3 2021-01-04    Music    688\n",
      "4 2021-01-05   Family   8960\n"
     ]
    }
   ],
   "source": [
    "# Preview of the first rows\n",
    "print(df.head())"
   ]
  },
  {
   "cell_type": "code",
   "execution_count": null,
   "metadata": {},
   "outputs": [
    {
     "name": "stdout",
     "output_type": "stream",
     "text": [
      "<class 'pandas.core.frame.DataFrame'>\n",
      "RangeIndex: 500 entries, 0 to 499\n",
      "Data columns (total 3 columns):\n",
      " #   Column    Non-Null Count  Dtype         \n",
      "---  ------    --------------  -----         \n",
      " 0   Date      500 non-null    datetime64[ns]\n",
      " 1   Category  500 non-null    object        \n",
      " 2   Likes     500 non-null    int32         \n",
      "dtypes: datetime64[ns](1), int32(1), object(1)\n",
      "memory usage: 9.9+ KB\n"
     ]
    }
   ],
   "source": [
    "# Print of dataframe information\n",
    "df.info()"
   ]
  },
  {
   "cell_type": "code",
   "execution_count": 14,
   "metadata": {},
   "outputs": [
    {
     "name": "stdout",
     "output_type": "stream",
     "text": [
      "                      Date        Likes\n",
      "count                  500   500.000000\n",
      "mean   2021-09-07 12:00:00  4966.618000\n",
      "min    2021-01-01 00:00:00     3.000000\n",
      "25%    2021-05-05 18:00:00  2362.000000\n",
      "50%    2021-09-07 12:00:00  5112.000000\n",
      "75%    2022-01-10 06:00:00  7754.500000\n",
      "max    2022-05-15 00:00:00  9891.000000\n",
      "std                    NaN  2946.856418\n"
     ]
    }
   ],
   "source": [
    "# Print of dataframe description\n",
    "print(df.describe())"
   ]
  },
  {
   "cell_type": "code",
   "execution_count": 21,
   "metadata": {},
   "outputs": [
    {
     "name": "stdout",
     "output_type": "stream",
     "text": [
      "Category\n",
      "Family     70\n",
      "Culture    70\n",
      "Fashion    66\n",
      "Music      63\n",
      "Fitness    63\n",
      "Travel     62\n",
      "Food       57\n",
      "Health     49\n",
      "Name: count, dtype: int64\n"
     ]
    }
   ],
   "source": [
    "# Count of each ‘Category’ element\n",
    "Category_Elements = df['Category'].value_counts()\n",
    "print(Category_Elements)\n"
   ]
  },
  {
   "cell_type": "markdown",
   "metadata": {},
   "source": [
    "# Step 4: Cleaning the data\n"
   ]
  },
  {
   "cell_type": "code",
   "execution_count": 29,
   "metadata": {},
   "outputs": [
    {
     "data": {
      "text/plain": [
       "np.False_"
      ]
     },
     "execution_count": 29,
     "metadata": {},
     "output_type": "execute_result"
    }
   ],
   "source": [
    "# Check if any null values exist in the DataFrame\n",
    "df.isnull().values.any()"
   ]
  },
  {
   "cell_type": "code",
   "execution_count": 27,
   "metadata": {},
   "outputs": [
    {
     "data": {
      "text/plain": [
       "Date        0\n",
       "Category    0\n",
       "Likes       0\n",
       "dtype: int64"
      ]
     },
     "execution_count": 27,
     "metadata": {},
     "output_type": "execute_result"
    }
   ],
   "source": [
    "# Count null values per column\n",
    "df.isnull().sum()"
   ]
  },
  {
   "cell_type": "code",
   "execution_count": null,
   "metadata": {},
   "outputs": [
    {
     "data": {
      "text/html": [
       "<div>\n",
       "<style scoped>\n",
       "    .dataframe tbody tr th:only-of-type {\n",
       "        vertical-align: middle;\n",
       "    }\n",
       "\n",
       "    .dataframe tbody tr th {\n",
       "        vertical-align: top;\n",
       "    }\n",
       "\n",
       "    .dataframe thead th {\n",
       "        text-align: right;\n",
       "    }\n",
       "</style>\n",
       "<table border=\"1\" class=\"dataframe\">\n",
       "  <thead>\n",
       "    <tr style=\"text-align: right;\">\n",
       "      <th></th>\n",
       "      <th>Date</th>\n",
       "      <th>Category</th>\n",
       "      <th>Likes</th>\n",
       "    </tr>\n",
       "  </thead>\n",
       "  <tbody>\n",
       "    <tr>\n",
       "      <th>0</th>\n",
       "      <td>2021-01-01</td>\n",
       "      <td>Food</td>\n",
       "      <td>6213</td>\n",
       "    </tr>\n",
       "    <tr>\n",
       "      <th>1</th>\n",
       "      <td>2021-01-02</td>\n",
       "      <td>Family</td>\n",
       "      <td>6667</td>\n",
       "    </tr>\n",
       "    <tr>\n",
       "      <th>2</th>\n",
       "      <td>2021-01-03</td>\n",
       "      <td>Family</td>\n",
       "      <td>7794</td>\n",
       "    </tr>\n",
       "    <tr>\n",
       "      <th>3</th>\n",
       "      <td>2021-01-04</td>\n",
       "      <td>Music</td>\n",
       "      <td>688</td>\n",
       "    </tr>\n",
       "    <tr>\n",
       "      <th>4</th>\n",
       "      <td>2021-01-05</td>\n",
       "      <td>Family</td>\n",
       "      <td>8960</td>\n",
       "    </tr>\n",
       "    <tr>\n",
       "      <th>...</th>\n",
       "      <td>...</td>\n",
       "      <td>...</td>\n",
       "      <td>...</td>\n",
       "    </tr>\n",
       "    <tr>\n",
       "      <th>495</th>\n",
       "      <td>2022-05-11</td>\n",
       "      <td>Fitness</td>\n",
       "      <td>4983</td>\n",
       "    </tr>\n",
       "    <tr>\n",
       "      <th>496</th>\n",
       "      <td>2022-05-12</td>\n",
       "      <td>Culture</td>\n",
       "      <td>3778</td>\n",
       "    </tr>\n",
       "    <tr>\n",
       "      <th>497</th>\n",
       "      <td>2022-05-13</td>\n",
       "      <td>Fashion</td>\n",
       "      <td>5897</td>\n",
       "    </tr>\n",
       "    <tr>\n",
       "      <th>498</th>\n",
       "      <td>2022-05-14</td>\n",
       "      <td>Culture</td>\n",
       "      <td>952</td>\n",
       "    </tr>\n",
       "    <tr>\n",
       "      <th>499</th>\n",
       "      <td>2022-05-15</td>\n",
       "      <td>Music</td>\n",
       "      <td>6873</td>\n",
       "    </tr>\n",
       "  </tbody>\n",
       "</table>\n",
       "<p>500 rows × 3 columns</p>\n",
       "</div>"
      ],
      "text/plain": [
       "          Date Category  Likes\n",
       "0   2021-01-01     Food   6213\n",
       "1   2021-01-02   Family   6667\n",
       "2   2021-01-03   Family   7794\n",
       "3   2021-01-04    Music    688\n",
       "4   2021-01-05   Family   8960\n",
       "..         ...      ...    ...\n",
       "495 2022-05-11  Fitness   4983\n",
       "496 2022-05-12  Culture   3778\n",
       "497 2022-05-13  Fashion   5897\n",
       "498 2022-05-14  Culture    952\n",
       "499 2022-05-15    Music   6873\n",
       "\n",
       "[500 rows x 3 columns]"
      ]
     },
     "execution_count": 31,
     "metadata": {},
     "output_type": "execute_result"
    }
   ],
   "source": [
    "# Remove duplicate rows\n",
    "df.drop_duplicates()"
   ]
  },
  {
   "cell_type": "code",
   "execution_count": 32,
   "metadata": {},
   "outputs": [],
   "source": [
    "# 3. Convert 'Date' column to datetime format \n",
    "df['Date'] = pd.to_datetime(df['Date'])"
   ]
  },
  {
   "cell_type": "code",
   "execution_count": 33,
   "metadata": {},
   "outputs": [],
   "source": [
    "# 4. Convert 'Likes' column to integer type\n",
    "df['Likes'] = df['Likes'].astype(int)"
   ]
  },
  {
   "cell_type": "markdown",
   "metadata": {},
   "source": [
    "# Step 5: Visualizing and Analyzing the data"
   ]
  },
  {
   "cell_type": "code",
   "execution_count": 43,
   "metadata": {},
   "outputs": [
    {
     "data": {
      "image/png": "[encoded data removed]",
      "text/plain": [
       "<Figure size 640x480 with 1 Axes>"
      ]
     },
     "metadata": {},
     "output_type": "display_data"
    }
   ],
   "source": [
    "# Histogram plot of Likes\n",
    "sns.histplot( df['Likes'])\n",
    "plt.title('Distribution of Likes')\n",
    "plt.xlabel('Likes')\n",
    "plt.ylabel('Frequency')\n",
    "plt.show()"
   ]
  },
  {
   "cell_type": "code",
   "execution_count": 48,
   "metadata": {},
   "outputs": [
    {
     "data": {
      "image/png": "[encoded data removed]",
      "text/plain": [
       "<Figure size 640x480 with 1 Axes>"
      ]
     },
     "metadata": {},
     "output_type": "display_data"
    }
   ],
   "source": [
    "# Boxplot of Likes per Category\n",
    "custom_palette = {\n",
    "    \"Food\": \"salmon\",\n",
    "    \"Travel\": \"teal\",\n",
    "    \"Fashion\": \"pink\",\n",
    "    \"Fitness\": \"seagreen\",\n",
    "    \"Music\": \"purple\",\n",
    "    \"Culture\": \"gold\",\n",
    "    \"Family\": \"darkorange\",\n",
    "    \"Health\": \"turquoise\"\n",
    "}\n",
    "sns.boxplot(x='Category', y='Likes', data=df,  hue='Category', palette=custom_palette, legend=False)\n",
    "plt.title('Likes by Category')\n",
    "plt.show()"
   ]
  },
  {
   "cell_type": "code",
   "execution_count": 49,
   "metadata": {},
   "outputs": [
    {
     "data": {
      "image/png": "[encoded data removed]",
      "text/plain": [
       "<Figure size 640x480 with 1 Axes>"
      ]
     },
     "metadata": {},
     "output_type": "display_data"
    }
   ],
   "source": [
    "# Bar plot of average Likes per Category\n",
    "custom_palette = {\n",
    "    \"Food\": \"salmon\",\n",
    "    \"Travel\": \"teal\",\n",
    "    \"Fashion\": \"pink\",\n",
    "    \"Fitness\": \"seagreen\",\n",
    "    \"Music\": \"purple\",\n",
    "    \"Culture\": \"gold\",\n",
    "    \"Family\": \"darkorange\",\n",
    "    \"Health\": \"turquoise\"\n",
    "}\n",
    "\n",
    "avg_likes = df.groupby('Category')['Likes'].mean().reset_index()\n",
    "\n",
    "sns.barplot(x='Category', y='Likes', data=avg_likes, hue='Category', palette=custom_palette, legend=False)\n",
    "plt.title('Average Likes per Category')\n",
    "plt.xlabel('Category')\n",
    "plt.ylabel('Average Likes')\n",
    "plt.show()"
   ]
  },
  {
   "cell_type": "code",
   "execution_count": null,
   "metadata": {},
   "outputs": [
    {
     "name": "stdout",
     "output_type": "stream",
     "text": [
      "Overall mean of Likes: 4966.618\n",
      "\n",
      "Mean Likes by Category:\n",
      "Category\n",
      "Culture    4801.514286\n",
      "Family     4988.942857\n",
      "Fashion    5038.893939\n",
      "Fitness    5049.380952\n",
      "Food       5233.771930\n",
      "Health     4440.346939\n",
      "Music      5063.333333\n",
      "Travel     5038.822581\n",
      "Name: Likes, dtype: float64\n"
     ]
    }
   ],
   "source": [
    "# Statisitcal analysis of Likes\n",
    "print(\"Overall mean of Likes:\", df['Likes'].mean())\n",
    "print(\"\\nMean Likes by Category:\")\n",
    "print(df.groupby('Category')['Likes'].mean())"
   ]
  },
  {
   "cell_type": "code",
   "execution_count": null,
   "metadata": {},
   "outputs": [],
   "source": []
  }
 ],
 "metadata": {
  "kernelspec": {
   "display_name": "Python 3",
   "language": "python",
   "name": "python3"
  },
  "language_info": {
   "codemirror_mode": {
    "name": "ipython",
    "version": 3
   },
   "file_extension": ".py",
   "mimetype": "text/x-python",
   "name": "python",
   "nbconvert_exporter": "python",
   "pygments_lexer": "ipython3",
   "version": "3.11.9"
  }
 },
 "nbformat": 4,
 "nbformat_minor": 4
}
